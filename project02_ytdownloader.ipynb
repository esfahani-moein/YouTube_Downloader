{
 "cells": [
  {
   "cell_type": "code",
   "execution_count": 3,
   "metadata": {},
   "outputs": [],
   "source": [
    "from pytubefix import YouTube\n",
    "from pytubefix.cli import on_progress"
   ]
  },
  {
   "cell_type": "code",
   "execution_count": null,
   "metadata": {},
   "outputs": [
    {
     "name": "stdout",
     "output_type": "stream",
     "text": [
      "How does anesthesia work? - Steven Zheng\n",
      " ↳ |████████████████████████████████████████████| 100.0%\r"
     ]
    },
    {
     "data": {
      "text/plain": [
       "'c:\\\\Projects\\\\project01_ytdownload\\\\How does anesthesia work - Steven Zheng.mp4'"
      ]
     },
     "execution_count": 2,
     "metadata": {},
     "output_type": "execute_result"
    }
   ],
   "source": [
    "\n",
    "\n",
    "url = \"https://www.youtube.com/watch?v=B_tTymvDWXk\"\n",
    "\n",
    "yt = YouTube(url, on_progress_callback=on_progress)\n",
    "print(yt.title)\n",
    "\n",
    "ys = yt.streams.get_highest_resolution()\n",
    "ys.download()"
   ]
  },
  {
   "cell_type": "code",
   "execution_count": 5,
   "metadata": {},
   "outputs": [],
   "source": [
    "def format_size(bytes):\n",
    "    \"\"\"Format file size in human-readable format\"\"\"\n",
    "    for unit in ['B', 'KB', 'MB', 'GB']:\n",
    "        if bytes < 1024:\n",
    "            return f\"{bytes:.2f} {unit}\"\n",
    "        bytes /= 1024\n",
    "    return f\"{bytes:.2f} TB\""
   ]
  },
  {
   "cell_type": "code",
   "execution_count": 7,
   "metadata": {},
   "outputs": [
    {
     "name": "stdout",
     "output_type": "stream",
     "text": [
      "Title: دوره القای نقدینگی LIT قسمت نهم: دو نوع اوردربلاک مهم.\n",
      "Channel: AGORA\n",
      "Length: 888 seconds\n",
      "Views: 1,497\n",
      "\n",
      "Available video qualities (progressive streams with audio):\n",
      "1. Resolution: 360p, Format: video/mp4, Size: 21.54 MB, FPS: 25\n",
      "\n",
      "Audio-only options:\n",
      "1. Bitrate: 48kbps, Format: audio/mp4, Size: 5.16 MB\n",
      "2. Bitrate: 50kbps, Format: audio/webm, Size: 5.10 MB\n",
      "3. Bitrate: 70kbps, Format: audio/webm, Size: 6.38 MB\n",
      "4. Bitrate: 128kbps, Format: audio/mp4, Size: 13.70 MB\n",
      "5. Bitrate: 160kbps, Format: audio/webm, Size: 11.26 MB\n",
      "\n",
      "Downloading highest quality: 360p\n",
      "File size: 21.54 MB\n",
      "Output format: mp4\n",
      "Download starting...\n",
      " ↳ |████████████████████████████████████████████| 100.0%\n",
      "Download complete!\n"
     ]
    }
   ],
   "source": [
    "url = \"https://www.youtube.com/watch?v=HicQ828PSvM&list=WL&index=8\"\n",
    "\n",
    "# Create YouTube object with progress callback\n",
    "yt = YouTube(url, on_progress_callback=on_progress)\n",
    "\n",
    "# Print video information\n",
    "print(f\"Title: {yt.title}\")\n",
    "print(f\"Channel: {yt.author}\")\n",
    "print(f\"Length: {yt.length} seconds\")\n",
    "print(f\"Views: {yt.views:,}\")\n",
    "\n",
    "# Get progressive streams (includes both video and audio)\n",
    "streams = yt.streams.filter(progressive=True).order_by('resolution')\n",
    "\n",
    "# Print available qualities\n",
    "print(\"\\nAvailable video qualities (progressive streams with audio):\")\n",
    "for i, stream in enumerate(streams, 1):\n",
    "    # Get file size\n",
    "    file_size = format_size(stream.filesize)\n",
    "    \n",
    "    print(f\"{i}. Resolution: {stream.resolution}, \"\n",
    "          f\"Format: {stream.mime_type}, \"\n",
    "          f\"Size: {file_size}, \"\n",
    "          f\"FPS: {stream.fps}\")\n",
    "\n",
    "# Print audio-only options\n",
    "print(\"\\nAudio-only options:\")\n",
    "audio_streams = yt.streams.filter(only_audio=True).order_by('abr')\n",
    "for i, stream in enumerate(audio_streams, 1):\n",
    "    file_size = format_size(stream.filesize)\n",
    "    print(f\"{i}. Bitrate: {stream.abr}, \"\n",
    "          f\"Format: {stream.mime_type}, \"\n",
    "          f\"Size: {file_size}\")\n",
    "\n",
    "# Select highest resolution for download\n",
    "selected_stream = yt.streams.get_highest_resolution()\n",
    "\n",
    "# Print download information\n",
    "print(f\"\\nDownloading highest quality: {selected_stream.resolution}\")\n",
    "print(f\"File size: {format_size(selected_stream.filesize)}\")\n",
    "print(f\"Output format: {selected_stream.subtype}\")\n",
    "print(\"Download starting...\")\n",
    "\n",
    "# Download the video\n",
    "selected_stream.download()\n",
    "\n",
    "print(\"\\nDownload complete!\")"
   ]
  }
 ],
 "metadata": {
  "kernelspec": {
   "display_name": "Python 3",
   "language": "python",
   "name": "python3"
  },
  "language_info": {
   "codemirror_mode": {
    "name": "ipython",
    "version": 3
   },
   "file_extension": ".py",
   "mimetype": "text/x-python",
   "name": "python",
   "nbconvert_exporter": "python",
   "pygments_lexer": "ipython3",
   "version": "3.13.2"
  }
 },
 "nbformat": 4,
 "nbformat_minor": 2
}
